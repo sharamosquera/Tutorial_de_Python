{
 "cells": [
  {
   "cell_type": "markdown",
   "metadata": {},
   "source": [
    "# Tutorial de Pyhton"
   ]
  },
  {
   "cell_type": "markdown",
   "metadata": {},
   "source": [
    "En primer lugar, es importante conocer la definición. Python es un lenguaje de programación: Un conjunto de símbolos, reglas y palabras claves que se utilizan para darle instrucciones a una computadora. (Lutz, 2020)\n",
    "Después de tener esto en consideración, se debe mencionar que en Python, hay dos formas de utilizar la información, Markdown y Code.\n"
   ]
  },
  {
   "cell_type": "markdown",
   "metadata": {},
   "source": [
    "### Markdown"
   ]
  },
  {
   "cell_type": "markdown",
   "metadata": {},
   "source": [
    "Es la opción para añadir un formato de texto: Es ideal para añadir títulos, descripciones, listas, enlaces, imágenes y ecuaciones. \n"
   ]
  },
  {
   "cell_type": "markdown",
   "metadata": {},
   "source": [
    "#### Títulos"
   ]
  },
  {
   "cell_type": "markdown",
   "metadata": {},
   "source": [
    "Se generan con el símbolo #, se inserta un espacio y se coloca el título desaeado. A más símbolos #, más bajo es el nivel del título. Por ejemplo:"
   ]
  },
  {
   "cell_type": "markdown",
   "metadata": {},
   "source": [
    "# Título 1\n",
    "## Título 2\n",
    "### Título 3\n",
    "#### Título 4\n"
   ]
  },
  {
   "cell_type": "markdown",
   "metadata": {},
   "source": [
    "#### Negrita"
   ]
  },
  {
   "cell_type": "markdown",
   "metadata": {},
   "source": [
    "Para poner texto en negrita, se coloca el texto entre dos pares de asteriscos (**  **) :"
   ]
  },
  {
   "cell_type": "markdown",
   "metadata": {},
   "source": [
    "**Texto en negrita**"
   ]
  },
  {
   "cell_type": "markdown",
   "metadata": {},
   "source": [
    "#### Cursiva "
   ]
  },
  {
   "cell_type": "markdown",
   "metadata": {},
   "source": [
    "Se coloca el texto entre dos asteriscos (* *):\n",
    "\n",
    "*Texto en cursiva*"
   ]
  },
  {
   "cell_type": "markdown",
   "metadata": {},
   "source": [
    "#### Listas\n",
    "Se pueden generar listas por medio de guiones (-) al principio de cada elemento\n",
    "- Elemento 1\n",
    "- Elemento 2\n",
    "- Elemento 3\n"
   ]
  },
  {
   "cell_type": "markdown",
   "metadata": {},
   "source": [
    "#### Referencias\n",
    "Se genera un bloque resaltado para insertar la cita, por medio del símbolo mayor que (>) al inicio de la referencia \n",
    "> Python Software Foundation. (2023). Python documentation. https://docs.python.org/3/\n",
    "\n"
   ]
  },
  {
   "cell_type": "markdown",
   "metadata": {},
   "source": [
    "#### Ecuaciones\n",
    "Se realizan añadiendo el signo del dólar ($) al inicio y al final de la ecuación\n",
    "\n",
    "$E=mc^2$"
   ]
  },
  {
   "cell_type": "markdown",
   "metadata": {},
   "source": [
    "#### Enlaces\n",
    "\n",
    "Para insertar enlaces a sitios web, se usa el formato  [texto] junto al de (URL). \n",
    "\n",
    "Si por ejemplo, se desea incluir un enlace a la página principal de Wikipedia con el texto \"Visita Wikipedia\", se escribe  así: \n",
    "\n",
    "[Visita Wikipedia] con (https://www.wikipedia.org) Lo que resulta en: \n",
    "\n",
    "\n",
    "[Visita Wikipedia](https://www.wikipedia.org)"
   ]
  },
  {
   "cell_type": "markdown",
   "metadata": {},
   "source": [
    "#### Imágenes\n",
    "Se insertar una imagen usando el mismo formato que los enlaces, pero con un signo de exclamación (!) antes:\n",
    "\n",
    "![Texto alternativo] con (URL_de_la_imagen) Por ejemplo:\n",
    "\n",
    "![Gato] con (https://upload.wikimedia.org/wikipedia/commons/thumb/e/e4/Redpointsiamesechrismorris.jpg/375px-Redpointsiamesechrismorris.jpg) Se convierte en:\n",
    "\n",
    "![Gato](https://upload.wikimedia.org/wikipedia/commons/thumb/e/e4/Redpointsiamesechrismorris.jpg/375px-Redpointsiamesechrismorris.jpg)\n",
    "\n"
   ]
  },
  {
   "cell_type": "markdown",
   "metadata": {},
   "source": [
    "### Code\n",
    "En Python, el término \"Code\" se refiere al conjunto de instrucciones que se escriben para decirle a la computadora qué hacer.\n"
   ]
  },
  {
   "cell_type": "markdown",
   "metadata": {},
   "source": [
    "#### Variables\n",
    "En Python, las variables se utilizan para almacenar datos. Al momento de nombrarlas se deben seguir algunas consideraciones:\n",
    "\n",
    "1. Nunca  se debe empezar el nombre de la variable con números\n",
    "- Incorrecto: 67zapatos\n",
    "- Correcto: zapatos67\n",
    "\n",
    "2. Python distingue entre mayúsculas y minúsculas en los nombres de las variables. numero1 y Numero1 se consideran variables diferentes.\n",
    "\n",
    "3. No se debe usar espacios en los nombres de las variables. En su lugar, se utilizan guiones bajos (_) para separar palabras.\n",
    "- Incorrecto: unaulauniversidad\n",
    "- Correcto: unaula_universidad\n",
    "\n",
    "4.  Los nombres de las variables deben ser descriptivos y reflejar el tipo de información que almacenan.\n",
    "\n",
    "5. No usar caracteres especiales como tildes (á, é), ñ, ni puntos (.) en los nombres de las variables.\n",
    "- Incorrecto: estación.de.otoño\n",
    "- Correcto: estacion_de_otono"
   ]
  },
  {
   "cell_type": "markdown",
   "metadata": {},
   "source": [
    "### Tipos de datos"
   ]
  },
  {
   "cell_type": "markdown",
   "metadata": {},
   "source": [
    "##### Datos tipo enteros:\n",
    " Números positivos, negativos y el cero. Ejemplo:"
   ]
  },
  {
   "cell_type": "code",
   "execution_count": 16,
   "metadata": {},
   "outputs": [],
   "source": [
    "Entero_1= 22092004\n",
    "Entero_2= -22092004\n",
    "Entero_3= 0\n"
   ]
  },
  {
   "cell_type": "code",
   "execution_count": 18,
   "metadata": {},
   "outputs": [
    {
     "data": {
      "text/plain": [
       "int"
      ]
     },
     "execution_count": 18,
     "metadata": {},
     "output_type": "execute_result"
    }
   ],
   "source": [
    "#Python también tiene la posibilidad de demostrar qué tipo de datos hay, con la función type\n",
    "type(Entero_1) #Siendo int, entero (integer)."
   ]
  },
  {
   "cell_type": "markdown",
   "metadata": {},
   "source": [
    "#### Números de punto flotante"
   ]
  },
  {
   "cell_type": "markdown",
   "metadata": {},
   "source": [
    "Son aquellos que tienen una parte decimal"
   ]
  },
  {
   "cell_type": "code",
   "execution_count": 19,
   "metadata": {},
   "outputs": [],
   "source": [
    "float_1= 1.45\n",
    "float_2= 0.0\n",
    "float_3= -0.768"
   ]
  },
  {
   "cell_type": "code",
   "execution_count": 21,
   "metadata": {},
   "outputs": [
    {
     "data": {
      "text/plain": [
       "float"
      ]
     },
     "execution_count": 21,
     "metadata": {},
     "output_type": "execute_result"
    }
   ],
   "source": [
    "type(float_1)"
   ]
  },
  {
   "cell_type": "markdown",
   "metadata": {},
   "source": [
    "#### Strings"
   ]
  },
  {
   "cell_type": "markdown",
   "metadata": {},
   "source": [
    "Un string es cualquier conjunto de caracteres: Palabras o frases. Se utilizan para manejar texto.\n"
   ]
  },
  {
   "cell_type": "code",
   "execution_count": 3,
   "metadata": {},
   "outputs": [
    {
     "data": {
      "text/plain": [
       "str"
      ]
     },
     "execution_count": 3,
     "metadata": {},
     "output_type": "execute_result"
    }
   ],
   "source": [
    "string_1= \"Agua\" #Los strings deben estar en comillas\n",
    "type(string_1)"
   ]
  },
  {
   "cell_type": "code",
   "execution_count": 5,
   "metadata": {},
   "outputs": [
    {
     "data": {
      "text/plain": [
       "str"
      ]
     },
     "execution_count": 5,
     "metadata": {},
     "output_type": "execute_result"
    }
   ],
   "source": [
    "string_2= \"Mi tía Clementina se fué al mercado\"\n",
    "type(string_2)"
   ]
  },
  {
   "cell_type": "code",
   "execution_count": 6,
   "metadata": {},
   "outputs": [
    {
     "name": "stdout",
     "output_type": "stream",
     "text": [
      "Agua Mi tía Clementina se fué al mercado\n"
     ]
    }
   ],
   "source": [
    "#Los strings se puede juntar\n",
    "print (string_1 + \" \" + string_2)"
   ]
  },
  {
   "cell_type": "markdown",
   "metadata": {},
   "source": [
    "#### Operaciones entre tipos de datos"
   ]
  },
  {
   "cell_type": "markdown",
   "metadata": {},
   "source": [
    "##### Numéricos"
   ]
  },
  {
   "cell_type": "code",
   "execution_count": 3,
   "metadata": {},
   "outputs": [
    {
     "name": "stdout",
     "output_type": "stream",
     "text": [
      "12.7\n",
      "-10054\n",
      "66542\n",
      "0.3948979591836735\n"
     ]
    }
   ],
   "source": [
    "#Sumas, restas, multiplicación y divsión se hacen con el comando print\n",
    "print(3.7+9)\n",
    "print(-9876-178)\n",
    "print(679*98)\n",
    "print(387/980)"
   ]
  },
  {
   "cell_type": "code",
   "execution_count": 5,
   "metadata": {},
   "outputs": [
    {
     "data": {
      "text/plain": [
       "25"
      ]
     },
     "execution_count": 5,
     "metadata": {},
     "output_type": "execute_result"
    }
   ],
   "source": [
    "#La potenciación, se genera con dos asteriscos: \"**\"\n",
    "5**2"
   ]
  },
  {
   "cell_type": "markdown",
   "metadata": {},
   "source": [
    "Para generar operaciones matemáticas más avanzadas, como la raíz cuadrada o funciones trigonométricas, se debe importar la librería math.\n",
    "Una librería, es un código reutilizable que realiza tareas comunes o avanzadas, de modo que permite no escribir las funciones desde cero."
   ]
  },
  {
   "cell_type": "code",
   "execution_count": 7,
   "metadata": {},
   "outputs": [
    {
     "name": "stdout",
     "output_type": "stream",
     "text": [
      "3.0\n",
      "25.0\n"
     ]
    }
   ],
   "source": [
    "import math\n",
    "# Logaritmo en base 10 de 1000\n",
    "print(math.log10(1000))   # Resultado: 3.0\n",
    "# Valor absoluto de -25\n",
    "print(math.fabs(-25))     # Resultado: 25.0\n"
   ]
  },
  {
   "cell_type": "markdown",
   "metadata": {},
   "source": [
    "#### Operaciones lógicas\n",
    "Las operaciones lógicas comparan valores y devuelven un resultado de tipo booleano (True o False)."
   ]
  },
  {
   "cell_type": "code",
   "execution_count": 9,
   "metadata": {},
   "outputs": [
    {
     "name": "stdout",
     "output_type": "stream",
     "text": [
      "True\n",
      "False\n",
      "True\n",
      "False\n",
      "True\n"
     ]
    }
   ],
   "source": [
    "print(10 <= 20)           # Compara si 10 es menor o igual que 20. \n",
    "print(15 != 15)           # Compara si 15 es diferente de 15. \n",
    "print(5 == 5.0)           # Compara si 5 es igual a 5.0 \n",
    "print(\"Python\" == \"python\")  # Compara si \"Python\" es igual a \"python\".\n",
    "print(False != True)      # Compara si False es diferente de True. \n"
   ]
  },
  {
   "cell_type": "markdown",
   "metadata": {},
   "source": [
    "#### Conversión entre tipos de datos"
   ]
  },
  {
   "cell_type": "code",
   "execution_count": 11,
   "metadata": {},
   "outputs": [
    {
     "name": "stdout",
     "output_type": "stream",
     "text": [
      "<class 'float'>\n",
      "1\n",
      "<class 'int'>\n",
      "1.75\n",
      "<class 'str'>\n",
      "0\n",
      "0.0\n",
      "False\n",
      "30\n",
      "<class 'int'>\n",
      "36.6\n",
      "<class 'float'>\n"
     ]
    }
   ],
   "source": [
    "# Definimos una variable de tipo flotante (decimal)\n",
    "altura = 1.75\n",
    "print(type(altura))  \n",
    "\n",
    "# Conversión de float a int\n",
    "altura_entero = int(altura)\n",
    "print(altura_entero)  \n",
    "print(type(altura_entero))  # Ahora es de tipo int\n",
    "\n",
    "# Conversión de float a string\n",
    "altura_str = str(altura)\n",
    "print(altura_str) \n",
    "print(type(altura_str))  # Ahora  es de tipo str\n",
    "\n",
    "# Definiendo un valor booleano\n",
    "es_mayor_edad = False\n",
    "print(int(es_mayor_edad)) \n",
    "print(float(es_mayor_edad))  \n",
    "print(str(es_mayor_edad))  # Ahora es un texto\n",
    "\n",
    "# Conversión de texto a número\n",
    "edad_str = \"30\"\n",
    "edad = int(edad_str)  \n",
    "print(edad) \n",
    "print(type(edad))  #Ahora es de tipo int\n",
    "\n",
    "# Otro ejemplo con decimales\n",
    "temperatura_str = \"36.6\"\n",
    "temperatura = float(temperatura_str)  \n",
    "print(temperatura)  \n",
    "print(type(temperatura))  # Ahora es de tipo float\n"
   ]
  },
  {
   "cell_type": "markdown",
   "metadata": {},
   "source": [
    "#### Introducción a Clases, Objetos, Atributos y Métodos "
   ]
  },
  {
   "cell_type": "markdown",
   "metadata": {},
   "source": [
    "1. Clases: Son un molde que definen cómo será un objeto, qué atributos y métodos tendrá.\n",
    "2. Objeto: Un objeto es un componente de la clase. Si se tiene una clase llamada Persona, un objeto será una persona concreta.\n",
    "3. Atributos: Son las características de los objetos. \n",
    "4. Métodos: Son las acciones que un objeto puede realizar.\n"
   ]
  },
  {
   "cell_type": "code",
   "execution_count": 12,
   "metadata": {},
   "outputs": [
    {
     "name": "stdout",
     "output_type": "stream",
     "text": [
      "Pepito Pérez\n",
      "30\n",
      "Hola, soy Pepito Pérez y tengo 30 años.\n"
     ]
    }
   ],
   "source": [
    "# Se define la clase Persona \n",
    "class Persona:\n",
    "    def __init__(self, nombre, edad):\n",
    "        self.nombre = nombre  # Atributo nombre\n",
    "        self.edad = edad      # Atributo edad\n",
    "\n",
    "    # Método saludar\n",
    "    def saludar(self):\n",
    "        print(f\"Hola, soy {self.nombre} y tengo {self.edad} años.\")\n",
    "\n",
    "# Creamos un objeto (una persona concreta)\n",
    "persona1 = Persona(\"Pepito Pérez\", 30)\n",
    "\n",
    "# Accedemos a sus atributos\n",
    "print(persona1.nombre)  \n",
    "print(persona1.edad)    \n",
    "\n",
    "# El objeto realiza una acción (saluda)\n",
    "persona1.saludar()  \n"
   ]
  },
  {
   "cell_type": "markdown",
   "metadata": {},
   "source": [
    "#### Estructuras de datos básicas"
   ]
  },
  {
   "cell_type": "markdown",
   "metadata": {},
   "source": [
    "Una estructura de datos es una forma de organizar y almacenar datos de tal forma, que haya la posibilidad de ser utilizados de manera eficiente."
   ]
  },
  {
   "cell_type": "markdown",
   "metadata": {},
   "source": [
    "##### Tuplas"
   ]
  },
  {
   "cell_type": "markdown",
   "metadata": {},
   "source": [
    "Una tupla es una estructura de datos, que permite guardar varios elementos. A diferencia de las listas, las tuplas son inmutables: No se pueden cambiar sus elementos, unas vez sean creadas."
   ]
  },
  {
   "cell_type": "code",
   "execution_count": 13,
   "metadata": {},
   "outputs": [
    {
     "name": "stdout",
     "output_type": "stream",
     "text": [
      "Título: Cien años de soledad\n",
      "Autor: Gabriel García Márquez\n",
      "Año de Publicación: 1967\n",
      "\n",
      "Información del libro:\n",
      "Título: Cien años de soledad\n",
      "Autor: Gabriel García Márquez\n",
      "Año de Publicación: 1967\n"
     ]
    }
   ],
   "source": [
    "# Definición de la tupla con información sobre un libro\n",
    "libro = (\"Cien años de soledad\", \"Gabriel García Márquez\", 1967)\n",
    "\n",
    "# Acceso a los elementos de la tupla\n",
    "titulo = libro[0]  # \"Cien años de soledad\"\n",
    "autor = libro[1]   # \"Gabriel García Márquez\"\n",
    "anio_publicacion = libro[2]  # 1967\n",
    "\n",
    "# Imprimir la información\n",
    "print(\"Título:\", titulo)\n",
    "print(\"Autor:\", autor)\n",
    "print(\"Año de Publicación:\", anio_publicacion)\n",
    "\n",
    "# Desempacar la tupla en variables individuales\n",
    "titulo, autor, anio_publicacion = libro\n",
    "\n",
    "# Imprimir la información desempacada\n",
    "print(\"\\nInformación del libro:\")\n",
    "print(\"Título:\", titulo)\n",
    "print(\"Autor:\", autor)\n",
    "print(\"Año de Publicación:\", anio_publicacion)\n"
   ]
  },
  {
   "cell_type": "markdown",
   "metadata": {},
   "source": [
    "### Lista"
   ]
  },
  {
   "cell_type": "markdown",
   "metadata": {},
   "source": [
    "Una lista es una estructura de datos ordenados"
   ]
  },
  {
   "cell_type": "code",
   "execution_count": 14,
   "metadata": {},
   "outputs": [
    {
     "name": "stdout",
     "output_type": "stream",
     "text": [
      "Lista de compras original: ['leche', 'pan', 'huevos', 'frutas']\n",
      "Después de agregar cereal: ['leche', 'pan', 'huevos', 'frutas', 'cereal']\n",
      "Después de insertar yogur: ['leche', 'pan', 'yogur', 'huevos', 'frutas', 'cereal']\n",
      "Después de eliminar pan: ['leche', 'yogur', 'huevos', 'frutas', 'cereal']\n",
      "Después de concatenar con lista nueva: ['leche', 'yogur', 'huevos', 'frutas', 'cereal', 'jugos', 'galletas']\n",
      "Después de ordenar alfabéticamente: ['cereal', 'frutas', 'galletas', 'huevos', 'jugos', 'leche', 'yogur']\n",
      "Lista vacía después de agregar elementos: ['sal', 'azúcar']\n",
      "Número de elementos en la lista de compras: 7\n",
      "Número de elementos en la lista vacía: 2\n",
      "Lista original: ['cereal', 'frutas', 'galletas', 'huevos', 'jugos', 'leche', 'yogur']\n",
      "Lista copia después de agregar aceite: ['cereal', 'frutas', 'galletas', 'huevos', 'jugos', 'leche', 'yogur', 'aceite']\n"
     ]
    }
   ],
   "source": [
    "# Crear una lista de compras\n",
    "lista_compras = [\"leche\", \"pan\", \"huevos\", \"frutas\"]\n",
    "\n",
    "# Imprimir la lista original\n",
    "print(\"Lista de compras original:\", lista_compras)\n",
    "\n",
    "# Agregar un nuevo elemento al final de la lista\n",
    "lista_compras.append(\"cereal\")\n",
    "print(\"Después de agregar cereal:\", lista_compras)\n",
    "\n",
    "# Insertar un elemento en una posición específica\n",
    "lista_compras.insert(2, \"yogur\")  # Inserta \"yogur\" en la posición 2\n",
    "print(\"Después de insertar yogur:\", lista_compras)\n",
    "\n",
    "# Eliminar un elemento específico\n",
    "lista_compras.remove(\"pan\")\n",
    "print(\"Después de eliminar pan:\", lista_compras)\n",
    "\n",
    "# Concatenar con otra lista de compras\n",
    "lista_nueva = [\"jugos\", \"galletas\"]\n",
    "lista_compras += lista_nueva\n",
    "print(\"Después de concatenar con lista nueva:\", lista_compras)\n",
    "\n",
    "# Ordenar la lista de compras en orden alfabético\n",
    "lista_compras.sort()\n",
    "print(\"Después de ordenar alfabéticamente:\", lista_compras)\n",
    "\n",
    "# Crear una lista vacía y agregar elementos\n",
    "lista_vacia = []\n",
    "lista_vacia.append(\"sal\")\n",
    "lista_vacia.append(\"azúcar\")\n",
    "print(\"Lista vacía después de agregar elementos:\", lista_vacia)\n",
    "\n",
    "# Longitud de la lista\n",
    "print(\"Número de elementos en la lista de compras:\", len(lista_compras))\n",
    "print(\"Número de elementos en la lista vacía:\", len(lista_vacia))\n",
    "\n",
    "# Copiar una lista y modificarla sin afectar la original\n",
    "lista_copia = lista_compras.copy()\n",
    "lista_copia.append(\"aceite\")\n",
    "print(\"Lista original:\", lista_compras)\n",
    "print(\"Lista copia después de agregar aceite:\", lista_copia)\n"
   ]
  },
  {
   "cell_type": "markdown",
   "metadata": {},
   "source": [
    "#### Conjuntos"
   ]
  },
  {
   "cell_type": "markdown",
   "metadata": {},
   "source": [
    "La función set, se utiliza para la creación de un conjunto. Los conjuntos son una estructura de datos que almacenan elementos únicos (que no permiten ser duplicados), desordenados e inmutables. Por ejemplo:"
   ]
  },
  {
   "cell_type": "code",
   "execution_count": 15,
   "metadata": {},
   "outputs": [
    {
     "name": "stdout",
     "output_type": "stream",
     "text": [
      "Estudiantes en ambos cursos: {'Luis', 'María', 'Ana'}\n",
      "Todos los estudiantes: {'Javier', 'Luis', 'María', 'Carlos', 'Ana', 'Elena', 'Pedro'}\n",
      "Estudiantes solo en el primer curso: {'Carlos', 'Elena'}\n",
      "Estudiantes solo en el segundo curso: {'Javier', 'Pedro'}\n"
     ]
    }
   ],
   "source": [
    "# Listas de estudiantes inscritos en dos cursos diferentes\n",
    "curso1 = [\"Ana\", \"Luis\", \"Carlos\", \"María\", \"Elena\"]\n",
    "curso2 = [\"Luis\", \"María\", \"Javier\", \"Ana\", \"Pedro\"]\n",
    "\n",
    "# Convertir las listas en conjuntos\n",
    "conjunto_curso1 = set(curso1)\n",
    "conjunto_curso2 = set(curso2)\n",
    "\n",
    "# Encontrar estudiantes inscritos en ambos cursos (intersección)\n",
    "estudiantes_en_ambos = conjunto_curso1.intersection(conjunto_curso2)\n",
    "print(\"Estudiantes en ambos cursos:\", estudiantes_en_ambos)\n",
    "\n",
    "# Encontrar todos los estudiantes inscritos en al menos uno de los cursos (unión)\n",
    "todos_estudiantes = conjunto_curso1.union(conjunto_curso2)\n",
    "print(\"Todos los estudiantes:\", todos_estudiantes)\n",
    "\n",
    "# Encontrar estudiantes solo en el primer curso pero no en el segundo (diferencia)\n",
    "solo_en_curso1 = conjunto_curso1.difference(conjunto_curso2)\n",
    "print(\"Estudiantes solo en el primer curso:\", solo_en_curso1)\n",
    "\n",
    "# Encontrar estudiantes solo en el segundo curso pero no en el primer (diferencia)\n",
    "solo_en_curso2 = conjunto_curso2.difference(conjunto_curso1)\n",
    "print(\"Estudiantes solo en el segundo curso:\", solo_en_curso2)\n"
   ]
  },
  {
   "cell_type": "markdown",
   "metadata": {},
   "source": [
    "#### Diccionario"
   ]
  },
  {
   "cell_type": "markdown",
   "metadata": {},
   "source": [
    "Un diccionario en Python es una estructura de datos que almacena información en pares de clave y valor. Cada palabra (clave) tiene una definición (valor).\n",
    "Los diccionarios no mantienen el orden de los elementos, y cada clave debe ser única. No se pueden tener dos claves iguales en un diccionario."
   ]
  },
  {
   "cell_type": "code",
   "execution_count": 17,
   "metadata": {},
   "outputs": [
    {
     "name": "stdout",
     "output_type": "stream",
     "text": [
      "{'Nombre': 'Ana', 'Edad': 30, 'Ciudad': 'Bogotá', 'Ocupación': 'Ingeniera'}\n",
      "Ana\n"
     ]
    }
   ],
   "source": [
    "# Crear un diccionario con información de una persona\n",
    "persona = {\n",
    "    \"Nombre\": \"Ana\",\n",
    "    \"Edad\": 30,\n",
    "    \"Ciudad\": \"Bogotá\",\n",
    "    \"Ocupación\": \"Ingeniera\"\n",
    "}\n",
    "\n",
    "# Mostrar el diccionario\n",
    "print(persona)\n",
    "\n",
    "# Acceder a un valor usando una clave\n",
    "print(persona[\"Nombre\"])"
   ]
  },
  {
   "cell_type": "markdown",
   "metadata": {},
   "source": [
    "#### Indexación"
   ]
  },
  {
   "cell_type": "markdown",
   "metadata": {},
   "source": [
    "Es el proceso de acceder a elementos dentro de estructuras de datos, utilizando **índices**, números enteros que indican la posición de un elemento. \n",
    "Los índices comienzan en 0. Esto significa que el primer elemento de una lista o tupla está en el índice 0, el segundo elemento está en el índice 1, y así sucesivamente."
   ]
  },
  {
   "cell_type": "code",
   "execution_count": 18,
   "metadata": {},
   "outputs": [
    {
     "name": "stdout",
     "output_type": "stream",
     "text": [
      "10\n",
      "-1\n",
      "1000\n",
      "0\n",
      "10\n"
     ]
    }
   ],
   "source": [
    "\n",
    "lista_1 = [10, 8, 7, -1, 28.9, 0, 1000]\n",
    "\n",
    "# Convirtiendo la lista en una tupla\n",
    "tupla_1 = tuple(lista_1)\n",
    "\n",
    "# Acceder a elementos usando índices positivos y negativos\n",
    "print(lista_1[0])   # Imprime: 10 (primer elemento de la lista)\n",
    "print(lista_1[3])   # Imprime: -1 (cuarto elemento de la lista)\n",
    "\n",
    "# Acceder al último elemento usando índice negativo\n",
    "print(lista_1[-1])  #(último elemento de la lista)\n",
    "\n",
    "# Acceder al penúltimo elemento usando índice negativo\n",
    "print(lista_1[-2])  #(penúltimo elemento de la lista)\n",
    "\n",
    "# Acceder al primer elemento de la tupla\n",
    "print(tupla_1[0])   \n"
   ]
  },
  {
   "cell_type": "markdown",
   "metadata": {},
   "source": [
    "#### Rangos de posiciones (Slicing)"
   ]
  },
  {
   "cell_type": "markdown",
   "metadata": {},
   "source": [
    "Permiten extraer una subsección de una lista o tupla utilizando el órden de inicio:fin:paso. El **inicio**, es el índice donde comienza el rango. El elemento en esta posición se incluye.\n",
    "El **fin**, es el índice donde termina el rango. El elemento en esta posición no se incluye.\n",
    "El **paso** es la cantidad de elementos a saltar."
   ]
  },
  {
   "cell_type": "code",
   "execution_count": 19,
   "metadata": {},
   "outputs": [
    {
     "name": "stdout",
     "output_type": "stream",
     "text": [
      "Todos los elementos: [True, False, None, 'Hola', 'Mundo', 'Python', 'Programación', False, True]\n",
      "Elementos desde el segundo hasta el quinto: [False, None, 'Hola', 'Mundo']\n",
      "Elementos del principio hasta el cuarto: [True, False, None, 'Hola']\n",
      "Elementos desde el tercer hasta el final, saltando de dos en dos: [None, 'Mundo', 'Programación', True]\n",
      "Elementos desde el final hacia el principio (inverso): [True, False, 'Programación', 'Python', 'Mundo', 'Hola', None, False, True]\n",
      "Elementos del segundo al penúltimo, saltando de dos en dos: [False, 'Hola', 'Python', False]\n"
     ]
    }
   ],
   "source": [
    "# Lista de elementos diversos\n",
    "elementos = [True, False, None, \"Hola\", \"Mundo\", \"Python\", \"Programación\", False, True]\n",
    "\n",
    "# 1. Obtener todos los elementos\n",
    "todos_los_elementos = elementos[:]\n",
    "print(\"Todos los elementos:\", todos_los_elementos)\n",
    "\n",
    "# 2. Obtener los elementos desde el segundo hasta el quinto (sin incluir el sexto)\n",
    "elementos_sublista = elementos[1:5]\n",
    "print(\"Elementos desde el segundo hasta el quinto:\", elementos_sublista)\n",
    "\n",
    "# 3. Obtener los elementos del principio hasta el cuarto (sin incluir el quinto)\n",
    "elementos_primera_parte = elementos[:4]\n",
    "print(\"Elementos del principio hasta el cuarto:\", elementos_primera_parte)\n",
    "\n",
    "# 4. Obtener los elementos desde el tercer hasta el final, saltando de dos en dos\n",
    "elementos_con_paso = elementos[2::2]\n",
    "print(\"Elementos desde el tercer hasta el final, saltando de dos en dos:\", elementos_con_paso)\n",
    "\n",
    "# 5. Obtener los elementos desde el final hacia el principio (inverso)\n",
    "elementos_invertidos = elementos[::-1]\n",
    "print(\"Elementos desde el final hacia el principio (inverso):\", elementos_invertidos)\n",
    "\n",
    "# 6. Obtener los elementos del segundo al penúltimo, saltando de dos en dos\n",
    "elementos_intervalo = elementos[1:-1:2]\n",
    "print(\"Elementos del segundo al penúltimo, saltando de dos en dos:\", elementos_intervalo)\n"
   ]
  },
  {
   "cell_type": "markdown",
   "metadata": {},
   "source": [
    "#### Bucle"
   ]
  },
  {
   "cell_type": "markdown",
   "metadata": {},
   "source": [
    " Permite ejecutar un bloque de código repetidamente"
   ]
  },
  {
   "cell_type": "markdown",
   "metadata": {},
   "source": [
    "1. Bucle for:  Repite un conjunto de instrucciones para cada elemento en una lista, rango, o cualquier colección de elementos."
   ]
  },
  {
   "cell_type": "code",
   "execution_count": 20,
   "metadata": {},
   "outputs": [
    {
     "name": "stdout",
     "output_type": "stream",
     "text": [
      "1\n",
      "2\n",
      "3\n"
     ]
    }
   ],
   "source": [
    "for i in [1, 2, 3]:\n",
    "    print(i)\n"
   ]
  },
  {
   "cell_type": "markdown",
   "metadata": {},
   "source": [
    "2. Bucle while: Repite un conjunto de instrucciones mientras se cumpla una condición"
   ]
  },
  {
   "cell_type": "code",
   "execution_count": 21,
   "metadata": {},
   "outputs": [
    {
     "name": "stdout",
     "output_type": "stream",
     "text": [
      "0\n",
      "1\n",
      "2\n"
     ]
    }
   ],
   "source": [
    "count = 0\n",
    "while count < 3:\n",
    "    print(count)\n",
    "    count += 1 #bucle while sigue repitiendo hasta que count sea igual o mayor que 3.\n"
   ]
  },
  {
   "cell_type": "markdown",
   "metadata": {},
   "source": [
    "#### Comprensión de listas"
   ]
  },
  {
   "cell_type": "markdown",
   "metadata": {},
   "source": [
    "Dónde se aplican transformaciones o filtros a los elementos de una lista"
   ]
  },
  {
   "cell_type": "code",
   "execution_count": 24,
   "metadata": {},
   "outputs": [
    {
     "name": "stdout",
     "output_type": "stream",
     "text": [
      "['bb', 'sll', 'pntln']\n"
     ]
    }
   ],
   "source": [
    "#Quitarle las vocales a una palabra\n",
    "palabras = [\"bebe\", \"silla\", \"pantalon\"]\n",
    "sin_vocales = [''.join([letra for letra in palabra if letra not in 'aeiou']) for palabra in palabras]\n",
    "print(sin_vocales)\n",
    "\n"
   ]
  },
  {
   "cell_type": "code",
   "execution_count": 25,
   "metadata": {},
   "outputs": [
    {
     "name": "stdout",
     "output_type": "stream",
     "text": [
      "[1.0, 2.0, 3.0, 4.0, 5.0]\n"
     ]
    }
   ],
   "source": [
    "# Calcular la raíz cuadrada de cada número\n",
    "import math\n",
    "numeros = [1, 4, 9, 16, 25]\n",
    "raices = [math.sqrt(numero) for numero in numeros]\n",
    "print(raices)\n",
    "# Salida: [1.0, 2.0, 3.0, 4.0, 5.0]\n"
   ]
  },
  {
   "cell_type": "markdown",
   "metadata": {},
   "source": [
    "## Funciones"
   ]
  },
  {
   "cell_type": "markdown",
   "metadata": {},
   "source": [
    "#### Función sin argumentos de entrada ni de salida"
   ]
  },
  {
   "cell_type": "markdown",
   "metadata": {},
   "source": [
    "Son funciones que no necesitan información externa para ejecutar un comando, y realizan una acción específica, pero no producen un resultado que se usa en otros procesos."
   ]
  },
  {
   "cell_type": "code",
   "execution_count": 27,
   "metadata": {},
   "outputs": [
    {
     "name": "stdout",
     "output_type": "stream",
     "text": [
      "Hoy es 2024-09-16\n"
     ]
    }
   ],
   "source": [
    "from datetime import datetime\n",
    "# Definición de la función\n",
    "def mostrar_fecha():\n",
    "    hoy = datetime.now()\n",
    "    print(f\"Hoy es {hoy.strftime('%Y-%m-%d')}\")\n",
    "\n",
    "# Llamada a la función\n",
    "mostrar_fecha()\n"
   ]
  },
  {
   "cell_type": "markdown",
   "metadata": {},
   "source": [
    "#### Función con argumentos de entrada y salida"
   ]
  },
  {
   "cell_type": "markdown",
   "metadata": {},
   "source": [
    "Son funciones que:\n",
    " 1. Reciben datos: Valores que se le pasan a la función cuando se llama. \n",
    "2. Devuelven un resultado: La salida es el resultado que la función devuelve después de realizar sus cálculos o procesar los datos. "
   ]
  },
  {
   "cell_type": "code",
   "execution_count": 29,
   "metadata": {},
   "outputs": [
    {
     "name": "stdout",
     "output_type": "stream",
     "text": [
      "El área del rectángulo es: 50\n"
     ]
    }
   ],
   "source": [
    "# Definición de la función\n",
    "def calcular_area_rectangulo(ancho, altura):\n",
    "    # Calcula el área del rectángulo\n",
    "    area = ancho * altura\n",
    "    # Devuelve el área calculada\n",
    "    return area\n",
    "\n",
    "# Llamar a la función con argumentos específicos\n",
    "area = calcular_area_rectangulo(5, 10)\n",
    "\n",
    "# Imprimir el resultado\n",
    "print(\"El área del rectángulo es:\", area)  \n"
   ]
  },
  {
   "cell_type": "markdown",
   "metadata": {},
   "source": [
    "#### Funciones anónimas"
   ]
  },
  {
   "cell_type": "markdown",
   "metadata": {},
   "source": [
    "Son funciones que no tienen un nombre específico. Se utilizan para operaciones simples, definidas en una sola línea. "
   ]
  },
  {
   "cell_type": "markdown",
   "metadata": {},
   "source": [
    "1. Funciones anónimas de argumentos únicos: Se rquiere un solo valor de entrada"
   ]
  },
  {
   "cell_type": "code",
   "execution_count": 30,
   "metadata": {},
   "outputs": [
    {
     "name": "stdout",
     "output_type": "stream",
     "text": [
      "16\n"
     ]
    }
   ],
   "source": [
    "# Función lambda con un solo argumento\n",
    "cuadrado = lambda x: x ** 2\n",
    "# Uso de la función lambda\n",
    "resultado = cuadrado(4)\n",
    "print(resultado)  \n"
   ]
  },
  {
   "cell_type": "markdown",
   "metadata": {},
   "source": [
    "2. Funciones anónimas de argumentos múltiples: Realizan operaciones que necesitan más de un valor de entrada"
   ]
  },
  {
   "cell_type": "code",
   "execution_count": 31,
   "metadata": {},
   "outputs": [
    {
     "name": "stdout",
     "output_type": "stream",
     "text": [
      "8\n"
     ]
    }
   ],
   "source": [
    "# Función lambda con dos argumentos\n",
    "suma = lambda x, y: x + y\n",
    "\n",
    "# Uso de la función lambda\n",
    "resultado = suma(5, 3)\n",
    "print(resultado)  "
   ]
  },
  {
   "cell_type": "markdown",
   "metadata": {},
   "source": [
    "#### Scope (Alcance)"
   ]
  },
  {
   "cell_type": "markdown",
   "metadata": {},
   "source": [
    " Define dónde se puede acceder a una variable y cuánto tiempo dura esa variable dentro de un programa"
   ]
  },
  {
   "cell_type": "markdown",
   "metadata": {},
   "source": [
    "1. Scope local: Son las variables que están dentro de una función, y por lo tanto, solo pueden ser accedidas dentro de esa función. Si la función se termina de ejecutar, las variables se eliminan"
   ]
  },
  {
   "cell_type": "code",
   "execution_count": 32,
   "metadata": {},
   "outputs": [
    {
     "name": "stdout",
     "output_type": "stream",
     "text": [
      "10\n"
     ]
    }
   ],
   "source": [
    "def mi_funcion():\n",
    "    variable_local = 10  # Variable local\n",
    "    print(variable_local)\n",
    "\n",
    "mi_funcion()  # Imprime 10\n",
    "# print(variable_local)  \n"
   ]
  },
  {
   "cell_type": "markdown",
   "metadata": {},
   "source": []
  },
  {
   "cell_type": "markdown",
   "metadata": {},
   "source": [
    "# Referencias"
   ]
  },
  {
   "cell_type": "markdown",
   "metadata": {},
   "source": []
  },
  {
   "cell_type": "markdown",
   "metadata": {},
   "source": [
    "> Lutz, M. (2020). Python for everybody: Exploring data in Python 3. CreateSpace Independent Publishing Platform."
   ]
  }
 ],
 "metadata": {
  "kernelspec": {
   "display_name": "ciencia_de_datos",
   "language": "python",
   "name": "python3"
  },
  "language_info": {
   "codemirror_mode": {
    "name": "ipython",
    "version": 3
   },
   "file_extension": ".py",
   "mimetype": "text/x-python",
   "name": "python",
   "nbconvert_exporter": "python",
   "pygments_lexer": "ipython3",
   "version": "3.12.4"
  }
 },
 "nbformat": 4,
 "nbformat_minor": 2
}
